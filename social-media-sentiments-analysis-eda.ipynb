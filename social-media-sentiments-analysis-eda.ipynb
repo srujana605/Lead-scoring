{
 "cells": [
  {
   "cell_type": "markdown",
   "id": "0d16e451",
   "metadata": {
    "papermill": {
     "duration": 0.006452,
     "end_time": "2024-08-05T02:29:38.130465",
     "exception": false,
     "start_time": "2024-08-05T02:29:38.124013",
     "status": "completed"
    },
    "tags": []
   },
   "source": [
    "# Social Media Sentiments Analysis\n",
    "\n",
    "Social media analysis is to understand audience, develop creative contents, increase traffic and sales, boost ROI, and improve strategic decision-making to achieve social media goals. Audience analysis helps improving customer experience, brand perception, and marketing strategy. Meanwhile, sentiment analysis is to find out how audience feel about your brand on social media via engagement activities such as likes, follows, clicks, retweets, comments, impressions, interests, and behaviours, etc. These metrics help marketing campains and measuring key performance indicators(KPIs). "
   ]
  },
  {
   "cell_type": "markdown",
   "id": "f5be7838",
   "metadata": {
    "papermill": {
     "duration": 0.005772,
     "end_time": "2024-08-05T02:29:38.142274",
     "exception": false,
     "start_time": "2024-08-05T02:29:38.136502",
     "status": "completed"
    },
    "tags": []
   },
   "source": [
    "# About the dataset\n",
    "\n",
    "The dataset captures audience emotions, trends, and interactions across different social media platform; Instagram, Facebook, Tweeter. It provides a snapshot of user generated content, encompassing text, timestamps, hashtags, countries, likes and retweets. It can be leveraged for diverse analytical purposes such as sentiment analysis, temporal analysis, user behaviour insights, platform specific analysis, hashtag trends, geographical analysis, user identification, and cross-analysis.\n",
    "\n",
    "[Data Source](https://www.kaggle.com/datasets/kashishparmar02/social-media-sentiments-analysis-dataset)\n",
    "\n",
    "* Text: User-generated content showcasing sentiments\n",
    "* Sentiment: Categorized emotions\n",
    "* Timestamp: Date and time information\n",
    "* User: Unique identifiers of users contributing\n",
    "* Platform: Social media platform where the content originated\n",
    "* Hashtags: Identifies trending topics and themes\n",
    "* Likes: Quantities user engagement\n",
    "* Retweets: Reflects content popularity\n",
    "* Country: Geographical origin of each post"
   ]
  },
  {
   "cell_type": "markdown",
   "id": "21ea902f",
   "metadata": {
    "papermill": {
     "duration": 0.005947,
     "end_time": "2024-08-05T02:29:38.154372",
     "exception": false,
     "start_time": "2024-08-05T02:29:38.148425",
     "status": "completed"
    },
    "tags": []
   },
   "source": [
    "# Identify objective\n",
    "\n",
    "* Understand data to interpret insights about how customer feel on social media\n",
    "* Analyze and visualize audience sentiments to improve audience experience\n",
    "* Deliver strategic marketing metrics to achieve socal media goals"
   ]
  },
  {
   "cell_type": "markdown",
   "id": "af755fc3",
   "metadata": {
    "papermill": {
     "duration": 0.005632,
     "end_time": "2024-08-05T02:29:38.165969",
     "exception": false,
     "start_time": "2024-08-05T02:29:38.160337",
     "status": "completed"
    },
    "tags": []
   },
   "source": [
    "# 1. Import libaries and Load data"
   ]
  },
  {
   "cell_type": "code",
   "execution_count": 1,
   "id": "2a8586b6",
   "metadata": {
    "_cell_guid": "b1076dfc-b9ad-4769-8c92-a6c4dae69d19",
    "_uuid": "8f2839f25d086af736a60e9eeb907d3b93b6e0e5",
    "execution": {
     "iopub.execute_input": "2024-08-05T02:29:38.179398Z",
     "iopub.status.busy": "2024-08-05T02:29:38.179006Z",
     "iopub.status.idle": "2024-08-05T02:29:39.002766Z",
     "shell.execute_reply": "2024-08-05T02:29:39.001475Z"
    },
    "papermill": {
     "duration": 0.83412,
     "end_time": "2024-08-05T02:29:39.005929",
     "exception": false,
     "start_time": "2024-08-05T02:29:38.171809",
     "status": "completed"
    },
    "tags": []
   },
   "outputs": [
    {
     "name": "stdout",
     "output_type": "stream",
     "text": [
      "/kaggle/input/social-media-sentiments-analysis-dataset/sentimentdataset.csv\n"
     ]
    }
   ],
   "source": [
    "\n",
    "import numpy as np # linear algebra\n",
    "import pandas as pd # data processing, CSV file I/O (e.g. pd.read_csv)\n",
    "\n",
    "import os\n",
    "for dirname, _, filenames in os.walk('/kaggle/input'):\n",
    "    for filename in filenames:\n",
    "        print(os.path.join(dirname, filename))"
   ]
  },
  {
   "cell_type": "code",
   "execution_count": 2,
   "id": "27f39bed",
   "metadata": {
    "execution": {
     "iopub.execute_input": "2024-08-05T02:29:39.021393Z",
     "iopub.status.busy": "2024-08-05T02:29:39.020473Z",
     "iopub.status.idle": "2024-08-05T02:29:39.070755Z",
     "shell.execute_reply": "2024-08-05T02:29:39.069678Z"
    },
    "papermill": {
     "duration": 0.060967,
     "end_time": "2024-08-05T02:29:39.073165",
     "exception": false,
     "start_time": "2024-08-05T02:29:39.012198",
     "status": "completed"
    },
    "tags": []
   },
   "outputs": [
    {
     "data": {
      "text/html": [
       "<div>\n",
       "<style scoped>\n",
       "    .dataframe tbody tr th:only-of-type {\n",
       "        vertical-align: middle;\n",
       "    }\n",
       "\n",
       "    .dataframe tbody tr th {\n",
       "        vertical-align: top;\n",
       "    }\n",
       "\n",
       "    .dataframe thead th {\n",
       "        text-align: right;\n",
       "    }\n",
       "</style>\n",
       "<table border=\"1\" class=\"dataframe\">\n",
       "  <thead>\n",
       "    <tr style=\"text-align: right;\">\n",
       "      <th></th>\n",
       "      <th>Unnamed: 0.1</th>\n",
       "      <th>Unnamed: 0</th>\n",
       "      <th>Text</th>\n",
       "      <th>Sentiment</th>\n",
       "      <th>Timestamp</th>\n",
       "      <th>User</th>\n",
       "      <th>Platform</th>\n",
       "      <th>Hashtags</th>\n",
       "      <th>Retweets</th>\n",
       "      <th>Likes</th>\n",
       "      <th>Country</th>\n",
       "      <th>Year</th>\n",
       "      <th>Month</th>\n",
       "      <th>Day</th>\n",
       "      <th>Hour</th>\n",
       "    </tr>\n",
       "  </thead>\n",
       "  <tbody>\n",
       "    <tr>\n",
       "      <th>0</th>\n",
       "      <td>0</td>\n",
       "      <td>0</td>\n",
       "      <td>Enjoying a beautiful day at the park!        ...</td>\n",
       "      <td>Positive</td>\n",
       "      <td>2023-01-15 12:30:00</td>\n",
       "      <td>User123</td>\n",
       "      <td>Twitter</td>\n",
       "      <td>#Nature #Park</td>\n",
       "      <td>15.0</td>\n",
       "      <td>30.0</td>\n",
       "      <td>USA</td>\n",
       "      <td>2023</td>\n",
       "      <td>1</td>\n",
       "      <td>15</td>\n",
       "      <td>12</td>\n",
       "    </tr>\n",
       "    <tr>\n",
       "      <th>1</th>\n",
       "      <td>1</td>\n",
       "      <td>1</td>\n",
       "      <td>Traffic was terrible this morning.           ...</td>\n",
       "      <td>Negative</td>\n",
       "      <td>2023-01-15 08:45:00</td>\n",
       "      <td>CommuterX</td>\n",
       "      <td>Twitter</td>\n",
       "      <td>#Traffic #Morning</td>\n",
       "      <td>5.0</td>\n",
       "      <td>10.0</td>\n",
       "      <td>Canada</td>\n",
       "      <td>2023</td>\n",
       "      <td>1</td>\n",
       "      <td>15</td>\n",
       "      <td>8</td>\n",
       "    </tr>\n",
       "    <tr>\n",
       "      <th>2</th>\n",
       "      <td>2</td>\n",
       "      <td>2</td>\n",
       "      <td>Just finished an amazing workout! 💪          ...</td>\n",
       "      <td>Positive</td>\n",
       "      <td>2023-01-15 15:45:00</td>\n",
       "      <td>FitnessFan</td>\n",
       "      <td>Instagram</td>\n",
       "      <td>#Fitness #Workout</td>\n",
       "      <td>20.0</td>\n",
       "      <td>40.0</td>\n",
       "      <td>USA</td>\n",
       "      <td>2023</td>\n",
       "      <td>1</td>\n",
       "      <td>15</td>\n",
       "      <td>15</td>\n",
       "    </tr>\n",
       "    <tr>\n",
       "      <th>3</th>\n",
       "      <td>3</td>\n",
       "      <td>3</td>\n",
       "      <td>Excited about the upcoming weekend getaway!  ...</td>\n",
       "      <td>Positive</td>\n",
       "      <td>2023-01-15 18:20:00</td>\n",
       "      <td>AdventureX</td>\n",
       "      <td>Facebook</td>\n",
       "      <td>#Travel #Adventure</td>\n",
       "      <td>8.0</td>\n",
       "      <td>15.0</td>\n",
       "      <td>UK</td>\n",
       "      <td>2023</td>\n",
       "      <td>1</td>\n",
       "      <td>15</td>\n",
       "      <td>18</td>\n",
       "    </tr>\n",
       "    <tr>\n",
       "      <th>4</th>\n",
       "      <td>4</td>\n",
       "      <td>4</td>\n",
       "      <td>Trying out a new recipe for dinner tonight.  ...</td>\n",
       "      <td>Neutral</td>\n",
       "      <td>2023-01-15 19:55:00</td>\n",
       "      <td>ChefCook</td>\n",
       "      <td>Instagram</td>\n",
       "      <td>#Cooking #Food</td>\n",
       "      <td>12.0</td>\n",
       "      <td>25.0</td>\n",
       "      <td>Australia</td>\n",
       "      <td>2023</td>\n",
       "      <td>1</td>\n",
       "      <td>15</td>\n",
       "      <td>19</td>\n",
       "    </tr>\n",
       "  </tbody>\n",
       "</table>\n",
       "</div>"
      ],
      "text/plain": [
       "   Unnamed: 0.1  Unnamed: 0  \\\n",
       "0             0           0   \n",
       "1             1           1   \n",
       "2             2           2   \n",
       "3             3           3   \n",
       "4             4           4   \n",
       "\n",
       "                                                Text    Sentiment  \\\n",
       "0   Enjoying a beautiful day at the park!        ...   Positive     \n",
       "1   Traffic was terrible this morning.           ...   Negative     \n",
       "2   Just finished an amazing workout! 💪          ...   Positive     \n",
       "3   Excited about the upcoming weekend getaway!  ...   Positive     \n",
       "4   Trying out a new recipe for dinner tonight.  ...   Neutral      \n",
       "\n",
       "             Timestamp            User     Platform  \\\n",
       "0  2023-01-15 12:30:00   User123          Twitter     \n",
       "1  2023-01-15 08:45:00   CommuterX        Twitter     \n",
       "2  2023-01-15 15:45:00   FitnessFan      Instagram    \n",
       "3  2023-01-15 18:20:00   AdventureX       Facebook    \n",
       "4  2023-01-15 19:55:00   ChefCook        Instagram    \n",
       "\n",
       "                                     Hashtags  Retweets  Likes       Country  \\\n",
       "0   #Nature #Park                                  15.0   30.0     USA         \n",
       "1   #Traffic #Morning                               5.0   10.0     Canada      \n",
       "2   #Fitness #Workout                              20.0   40.0   USA           \n",
       "3   #Travel #Adventure                              8.0   15.0     UK          \n",
       "4   #Cooking #Food                                 12.0   25.0    Australia    \n",
       "\n",
       "   Year  Month  Day  Hour  \n",
       "0  2023      1   15    12  \n",
       "1  2023      1   15     8  \n",
       "2  2023      1   15    15  \n",
       "3  2023      1   15    18  \n",
       "4  2023      1   15    19  "
      ]
     },
     "execution_count": 2,
     "metadata": {},
     "output_type": "execute_result"
    }
   ],
   "source": [
    "df = pd.read_csv(\"/kaggle/input/social-media-sentiments-analysis-dataset/sentimentdataset.csv\")\n",
    "df.head(5)"
   ]
  },
  {
   "cell_type": "markdown",
   "id": "f116567c",
   "metadata": {
    "papermill": {
     "duration": 0.006305,
     "end_time": "2024-08-05T02:29:39.086072",
     "exception": false,
     "start_time": "2024-08-05T02:29:39.079767",
     "status": "completed"
    },
    "tags": []
   },
   "source": [
    "# 2. Preprocessing: Inspect and Clean Data"
   ]
  },
  {
   "cell_type": "code",
   "execution_count": 3,
   "id": "1cff7d10",
   "metadata": {
    "execution": {
     "iopub.execute_input": "2024-08-05T02:29:39.100577Z",
     "iopub.status.busy": "2024-08-05T02:29:39.100210Z",
     "iopub.status.idle": "2024-08-05T02:29:39.123921Z",
     "shell.execute_reply": "2024-08-05T02:29:39.122848Z"
    },
    "papermill": {
     "duration": 0.033837,
     "end_time": "2024-08-05T02:29:39.126365",
     "exception": false,
     "start_time": "2024-08-05T02:29:39.092528",
     "status": "completed"
    },
    "tags": []
   },
   "outputs": [
    {
     "name": "stdout",
     "output_type": "stream",
     "text": [
      "Columns of dataset:  Index(['Unnamed: 0.1', 'Unnamed: 0', 'Text', 'Sentiment', 'Timestamp', 'User',\n",
      "       'Platform', 'Hashtags', 'Retweets', 'Likes', 'Country', 'Year', 'Month',\n",
      "       'Day', 'Hour'],\n",
      "      dtype='object') \n",
      "\n",
      "Dimension of dataset:  (732, 15) \n",
      "\n",
      "<class 'pandas.core.frame.DataFrame'>\n",
      "RangeIndex: 732 entries, 0 to 731\n",
      "Data columns (total 15 columns):\n",
      " #   Column        Non-Null Count  Dtype  \n",
      "---  ------        --------------  -----  \n",
      " 0   Unnamed: 0.1  732 non-null    int64  \n",
      " 1   Unnamed: 0    732 non-null    int64  \n",
      " 2   Text          732 non-null    object \n",
      " 3   Sentiment     732 non-null    object \n",
      " 4   Timestamp     732 non-null    object \n",
      " 5   User          732 non-null    object \n",
      " 6   Platform      732 non-null    object \n",
      " 7   Hashtags      732 non-null    object \n",
      " 8   Retweets      732 non-null    float64\n",
      " 9   Likes         732 non-null    float64\n",
      " 10  Country       732 non-null    object \n",
      " 11  Year          732 non-null    int64  \n",
      " 12  Month         732 non-null    int64  \n",
      " 13  Day           732 non-null    int64  \n",
      " 14  Hour          732 non-null    int64  \n",
      "dtypes: float64(2), int64(6), object(7)\n",
      "memory usage: 85.9+ KB\n",
      "Infomation of dataset:  None\n"
     ]
    }
   ],
   "source": [
    "print('Columns of dataset: ', df.columns, '\\n')\n",
    "print('Dimension of dataset: ', df.shape, '\\n')\n",
    "print('Infomation of dataset: ', df.info())"
   ]
  },
  {
   "cell_type": "code",
   "execution_count": 4,
   "id": "338a4891",
   "metadata": {
    "execution": {
     "iopub.execute_input": "2024-08-05T02:29:39.141510Z",
     "iopub.status.busy": "2024-08-05T02:29:39.141160Z",
     "iopub.status.idle": "2024-08-05T02:29:39.150093Z",
     "shell.execute_reply": "2024-08-05T02:29:39.149005Z"
    },
    "papermill": {
     "duration": 0.019167,
     "end_time": "2024-08-05T02:29:39.152327",
     "exception": false,
     "start_time": "2024-08-05T02:29:39.133160",
     "status": "completed"
    },
    "tags": []
   },
   "outputs": [
    {
     "data": {
      "text/plain": [
       "Unnamed: 0.1    0\n",
       "Unnamed: 0      0\n",
       "Text            0\n",
       "Sentiment       0\n",
       "Timestamp       0\n",
       "User            0\n",
       "Platform        0\n",
       "Hashtags        0\n",
       "Retweets        0\n",
       "Likes           0\n",
       "Country         0\n",
       "Year            0\n",
       "Month           0\n",
       "Day             0\n",
       "Hour            0\n",
       "dtype: int64"
      ]
     },
     "execution_count": 4,
     "metadata": {},
     "output_type": "execute_result"
    }
   ],
   "source": [
    "df.isnull().sum() #<--- null value: none"
   ]
  },
  {
   "cell_type": "code",
   "execution_count": 5,
   "id": "ed567584",
   "metadata": {
    "execution": {
     "iopub.execute_input": "2024-08-05T02:29:39.167727Z",
     "iopub.status.busy": "2024-08-05T02:29:39.167340Z",
     "iopub.status.idle": "2024-08-05T02:29:39.177129Z",
     "shell.execute_reply": "2024-08-05T02:29:39.176050Z"
    },
    "papermill": {
     "duration": 0.020235,
     "end_time": "2024-08-05T02:29:39.179444",
     "exception": false,
     "start_time": "2024-08-05T02:29:39.159209",
     "status": "completed"
    },
    "tags": []
   },
   "outputs": [
    {
     "data": {
      "text/plain": [
       "0"
      ]
     },
     "execution_count": 5,
     "metadata": {},
     "output_type": "execute_result"
    }
   ],
   "source": [
    "df.duplicated().sum() #<---duplicates: none"
   ]
  },
  {
   "cell_type": "markdown",
   "id": "19a2f50b",
   "metadata": {
    "papermill": {
     "duration": 0.006886,
     "end_time": "2024-08-05T02:29:39.194203",
     "exception": false,
     "start_time": "2024-08-05T02:29:39.187317",
     "status": "completed"
    },
    "tags": []
   },
   "source": [
    "# 3. Preprocessing: Wrangle and Transform data"
   ]
  },
  {
   "cell_type": "code",
   "execution_count": 6,
   "id": "7d0e4889",
   "metadata": {
    "execution": {
     "iopub.execute_input": "2024-08-05T02:29:39.211103Z",
     "iopub.status.busy": "2024-08-05T02:29:39.210673Z",
     "iopub.status.idle": "2024-08-05T02:29:39.219709Z",
     "shell.execute_reply": "2024-08-05T02:29:39.218574Z"
    },
    "papermill": {
     "duration": 0.020568,
     "end_time": "2024-08-05T02:29:39.221857",
     "exception": false,
     "start_time": "2024-08-05T02:29:39.201289",
     "status": "completed"
    },
    "tags": []
   },
   "outputs": [],
   "source": [
    "# Drop unrelevant and unclear no-name columns from the dataset\n",
    "df1=df.drop(['Unnamed: 0.1', 'Unnamed: 0'], axis=1)"
   ]
  },
  {
   "cell_type": "code",
   "execution_count": 7,
   "id": "3d422a28",
   "metadata": {
    "execution": {
     "iopub.execute_input": "2024-08-05T02:29:39.238489Z",
     "iopub.status.busy": "2024-08-05T02:29:39.238117Z",
     "iopub.status.idle": "2024-08-05T02:29:39.267469Z",
     "shell.execute_reply": "2024-08-05T02:29:39.266453Z"
    },
    "papermill": {
     "duration": 0.040698,
     "end_time": "2024-08-05T02:29:39.269834",
     "exception": false,
     "start_time": "2024-08-05T02:29:39.229136",
     "status": "completed"
    },
    "tags": []
   },
   "outputs": [
    {
     "data": {
      "text/html": [
       "<div>\n",
       "<style scoped>\n",
       "    .dataframe tbody tr th:only-of-type {\n",
       "        vertical-align: middle;\n",
       "    }\n",
       "\n",
       "    .dataframe tbody tr th {\n",
       "        vertical-align: top;\n",
       "    }\n",
       "\n",
       "    .dataframe thead th {\n",
       "        text-align: right;\n",
       "    }\n",
       "</style>\n",
       "<table border=\"1\" class=\"dataframe\">\n",
       "  <thead>\n",
       "    <tr style=\"text-align: right;\">\n",
       "      <th></th>\n",
       "      <th>Retweets</th>\n",
       "      <th>Likes</th>\n",
       "      <th>Year</th>\n",
       "      <th>Month</th>\n",
       "      <th>Day</th>\n",
       "      <th>Hour</th>\n",
       "    </tr>\n",
       "  </thead>\n",
       "  <tbody>\n",
       "    <tr>\n",
       "      <th>count</th>\n",
       "      <td>732.000000</td>\n",
       "      <td>732.000000</td>\n",
       "      <td>732.000000</td>\n",
       "      <td>732.000000</td>\n",
       "      <td>732.000000</td>\n",
       "      <td>732.000000</td>\n",
       "    </tr>\n",
       "    <tr>\n",
       "      <th>mean</th>\n",
       "      <td>21.508197</td>\n",
       "      <td>42.901639</td>\n",
       "      <td>2020.471311</td>\n",
       "      <td>6.122951</td>\n",
       "      <td>15.497268</td>\n",
       "      <td>15.521858</td>\n",
       "    </tr>\n",
       "    <tr>\n",
       "      <th>std</th>\n",
       "      <td>7.061286</td>\n",
       "      <td>14.089848</td>\n",
       "      <td>2.802285</td>\n",
       "      <td>3.411763</td>\n",
       "      <td>8.474553</td>\n",
       "      <td>4.113414</td>\n",
       "    </tr>\n",
       "    <tr>\n",
       "      <th>min</th>\n",
       "      <td>5.000000</td>\n",
       "      <td>10.000000</td>\n",
       "      <td>2010.000000</td>\n",
       "      <td>1.000000</td>\n",
       "      <td>1.000000</td>\n",
       "      <td>0.000000</td>\n",
       "    </tr>\n",
       "    <tr>\n",
       "      <th>25%</th>\n",
       "      <td>17.750000</td>\n",
       "      <td>34.750000</td>\n",
       "      <td>2019.000000</td>\n",
       "      <td>3.000000</td>\n",
       "      <td>9.000000</td>\n",
       "      <td>13.000000</td>\n",
       "    </tr>\n",
       "    <tr>\n",
       "      <th>50%</th>\n",
       "      <td>22.000000</td>\n",
       "      <td>43.000000</td>\n",
       "      <td>2021.000000</td>\n",
       "      <td>6.000000</td>\n",
       "      <td>15.000000</td>\n",
       "      <td>16.000000</td>\n",
       "    </tr>\n",
       "    <tr>\n",
       "      <th>75%</th>\n",
       "      <td>25.000000</td>\n",
       "      <td>50.000000</td>\n",
       "      <td>2023.000000</td>\n",
       "      <td>9.000000</td>\n",
       "      <td>22.000000</td>\n",
       "      <td>19.000000</td>\n",
       "    </tr>\n",
       "    <tr>\n",
       "      <th>max</th>\n",
       "      <td>40.000000</td>\n",
       "      <td>80.000000</td>\n",
       "      <td>2023.000000</td>\n",
       "      <td>12.000000</td>\n",
       "      <td>31.000000</td>\n",
       "      <td>23.000000</td>\n",
       "    </tr>\n",
       "  </tbody>\n",
       "</table>\n",
       "</div>"
      ],
      "text/plain": [
       "         Retweets       Likes         Year       Month         Day        Hour\n",
       "count  732.000000  732.000000   732.000000  732.000000  732.000000  732.000000\n",
       "mean    21.508197   42.901639  2020.471311    6.122951   15.497268   15.521858\n",
       "std      7.061286   14.089848     2.802285    3.411763    8.474553    4.113414\n",
       "min      5.000000   10.000000  2010.000000    1.000000    1.000000    0.000000\n",
       "25%     17.750000   34.750000  2019.000000    3.000000    9.000000   13.000000\n",
       "50%     22.000000   43.000000  2021.000000    6.000000   15.000000   16.000000\n",
       "75%     25.000000   50.000000  2023.000000    9.000000   22.000000   19.000000\n",
       "max     40.000000   80.000000  2023.000000   12.000000   31.000000   23.000000"
      ]
     },
     "execution_count": 7,
     "metadata": {},
     "output_type": "execute_result"
    }
   ],
   "source": [
    "# check statistical distribution of numerical variables\n",
    "df1.describe()"
   ]
  },
  {
   "cell_type": "code",
   "execution_count": 8,
   "id": "2d379faa",
   "metadata": {
    "execution": {
     "iopub.execute_input": "2024-08-05T02:29:39.286426Z",
     "iopub.status.busy": "2024-08-05T02:29:39.286029Z",
     "iopub.status.idle": "2024-08-05T02:29:39.309815Z",
     "shell.execute_reply": "2024-08-05T02:29:39.308794Z"
    },
    "papermill": {
     "duration": 0.035005,
     "end_time": "2024-08-05T02:29:39.312249",
     "exception": false,
     "start_time": "2024-08-05T02:29:39.277244",
     "status": "completed"
    },
    "tags": []
   },
   "outputs": [
    {
     "data": {
      "text/html": [
       "<div>\n",
       "<style scoped>\n",
       "    .dataframe tbody tr th:only-of-type {\n",
       "        vertical-align: middle;\n",
       "    }\n",
       "\n",
       "    .dataframe tbody tr th {\n",
       "        vertical-align: top;\n",
       "    }\n",
       "\n",
       "    .dataframe thead th {\n",
       "        text-align: right;\n",
       "    }\n",
       "</style>\n",
       "<table border=\"1\" class=\"dataframe\">\n",
       "  <thead>\n",
       "    <tr style=\"text-align: right;\">\n",
       "      <th></th>\n",
       "      <th>Text</th>\n",
       "      <th>Sentiment</th>\n",
       "      <th>Timestamp</th>\n",
       "      <th>User</th>\n",
       "      <th>Platform</th>\n",
       "      <th>Hashtags</th>\n",
       "      <th>Country</th>\n",
       "    </tr>\n",
       "  </thead>\n",
       "  <tbody>\n",
       "    <tr>\n",
       "      <th>count</th>\n",
       "      <td>732</td>\n",
       "      <td>732</td>\n",
       "      <td>732</td>\n",
       "      <td>732</td>\n",
       "      <td>732</td>\n",
       "      <td>732</td>\n",
       "      <td>732</td>\n",
       "    </tr>\n",
       "    <tr>\n",
       "      <th>unique</th>\n",
       "      <td>707</td>\n",
       "      <td>279</td>\n",
       "      <td>683</td>\n",
       "      <td>685</td>\n",
       "      <td>4</td>\n",
       "      <td>697</td>\n",
       "      <td>115</td>\n",
       "    </tr>\n",
       "    <tr>\n",
       "      <th>top</th>\n",
       "      <td>A compassionate rain, tears of empathy fallin...</td>\n",
       "      <td>Positive</td>\n",
       "      <td>2022-07-17 06:15:00</td>\n",
       "      <td>WindWhisperer</td>\n",
       "      <td>Instagram</td>\n",
       "      <td>#Compassionate #TearsOfEmpathy</td>\n",
       "      <td>USA</td>\n",
       "    </tr>\n",
       "    <tr>\n",
       "      <th>freq</th>\n",
       "      <td>3</td>\n",
       "      <td>44</td>\n",
       "      <td>3</td>\n",
       "      <td>3</td>\n",
       "      <td>258</td>\n",
       "      <td>3</td>\n",
       "      <td>59</td>\n",
       "    </tr>\n",
       "  </tbody>\n",
       "</table>\n",
       "</div>"
      ],
      "text/plain": [
       "                                                     Text    Sentiment  \\\n",
       "count                                                 732          732   \n",
       "unique                                                707          279   \n",
       "top      A compassionate rain, tears of empathy fallin...   Positive     \n",
       "freq                                                    3           44   \n",
       "\n",
       "                  Timestamp             User     Platform  \\\n",
       "count                   732              732          732   \n",
       "unique                  683              685            4   \n",
       "top     2022-07-17 06:15:00   WindWhisperer    Instagram    \n",
       "freq                      3                3          258   \n",
       "\n",
       "                                Hashtags Country  \n",
       "count                                732     732  \n",
       "unique                               697     115  \n",
       "top      #Compassionate #TearsOfEmpathy      USA  \n",
       "freq                                   3      59  "
      ]
     },
     "execution_count": 8,
     "metadata": {},
     "output_type": "execute_result"
    }
   ],
   "source": [
    "# Check object columns: count of all values in the column, unique value, top value, frequency of value\n",
    "df1.describe(include=['object'])"
   ]
  },
  {
   "cell_type": "markdown",
   "id": "b41521da",
   "metadata": {
    "papermill": {
     "duration": 0.00749,
     "end_time": "2024-08-05T02:29:39.328030",
     "exception": false,
     "start_time": "2024-08-05T02:29:39.320540",
     "status": "completed"
    },
    "tags": []
   },
   "source": [
    "**pandas.Series.str.strip()**\n",
    "\n",
    "Strip whitespaces (including newlines) or a set of specified characters from each string in the Series/Index from left and right sides. Replaces any non-strings in Series with NaNs.\n",
    "\n",
    "Example: \n",
    "- Before using str.strip(): ' Twitter  ', ' Twitter ', ' Instagram ', ' Facebook '\n",
    "- After using str.strip(): 'Twitter', 'Instagram', 'Facebook'\n"
   ]
  },
  {
   "cell_type": "code",
   "execution_count": 9,
   "id": "77b22266",
   "metadata": {
    "execution": {
     "iopub.execute_input": "2024-08-05T02:29:39.345760Z",
     "iopub.status.busy": "2024-08-05T02:29:39.344749Z",
     "iopub.status.idle": "2024-08-05T02:29:39.356128Z",
     "shell.execute_reply": "2024-08-05T02:29:39.355095Z"
    },
    "papermill": {
     "duration": 0.022644,
     "end_time": "2024-08-05T02:29:39.358360",
     "exception": false,
     "start_time": "2024-08-05T02:29:39.335716",
     "status": "completed"
    },
    "tags": []
   },
   "outputs": [],
   "source": [
    "# Series.str.strip() in pandas: Remove leading and trailing characters in Series/Index.\n",
    "df1['Text']= df1['Text'].str.strip()\n",
    "df1['Sentiment']= df1['Sentiment'].str.strip()\n",
    "df1['User']= df1['User'].str.strip()\n",
    "df1['Platform']= df1['Platform'].str.strip()\n",
    "df1['Hashtags']= df1['Hashtags'].str.strip()\n",
    "df1['Country']= df1['Country'].str.strip()"
   ]
  },
  {
   "cell_type": "code",
   "execution_count": 10,
   "id": "3fe6cd04",
   "metadata": {
    "execution": {
     "iopub.execute_input": "2024-08-05T02:29:39.375575Z",
     "iopub.status.busy": "2024-08-05T02:29:39.375202Z",
     "iopub.status.idle": "2024-08-05T02:29:39.382847Z",
     "shell.execute_reply": "2024-08-05T02:29:39.381704Z"
    },
    "papermill": {
     "duration": 0.019051,
     "end_time": "2024-08-05T02:29:39.385147",
     "exception": false,
     "start_time": "2024-08-05T02:29:39.366096",
     "status": "completed"
    },
    "tags": []
   },
   "outputs": [
    {
     "name": "stdout",
     "output_type": "stream",
     "text": [
      "Print unique values in 'Platform'column:  ['Twitter' 'Instagram' 'Facebook'] \n",
      "\n",
      "Value counts in 'Platform' column:  \n",
      " Platform\n",
      "Instagram    258\n",
      "Twitter      243\n",
      "Facebook     231\n",
      "Name: count, dtype: int64\n"
     ]
    }
   ],
   "source": [
    "# to see unique values in 'Platform' column\n",
    "print(\"Print unique values in 'Platform'column: \", df1['Platform'].unique(), '\\n')\n",
    "print(\"Value counts in 'Platform' column: \", '\\n', df1['Platform'].value_counts())"
   ]
  },
  {
   "cell_type": "code",
   "execution_count": 11,
   "id": "198090b9",
   "metadata": {
    "execution": {
     "iopub.execute_input": "2024-08-05T02:29:39.402432Z",
     "iopub.status.busy": "2024-08-05T02:29:39.402059Z",
     "iopub.status.idle": "2024-08-05T02:29:39.419625Z",
     "shell.execute_reply": "2024-08-05T02:29:39.418574Z"
    },
    "papermill": {
     "duration": 0.028685,
     "end_time": "2024-08-05T02:29:39.421682",
     "exception": false,
     "start_time": "2024-08-05T02:29:39.392997",
     "status": "completed"
    },
    "tags": []
   },
   "outputs": [
    {
     "data": {
      "text/html": [
       "<div>\n",
       "<style scoped>\n",
       "    .dataframe tbody tr th:only-of-type {\n",
       "        vertical-align: middle;\n",
       "    }\n",
       "\n",
       "    .dataframe tbody tr th {\n",
       "        vertical-align: top;\n",
       "    }\n",
       "\n",
       "    .dataframe thead th {\n",
       "        text-align: right;\n",
       "    }\n",
       "</style>\n",
       "<table border=\"1\" class=\"dataframe\">\n",
       "  <thead>\n",
       "    <tr style=\"text-align: right;\">\n",
       "      <th></th>\n",
       "      <th>Text</th>\n",
       "      <th>Sentiment</th>\n",
       "      <th>Timestamp</th>\n",
       "      <th>User</th>\n",
       "      <th>Platform</th>\n",
       "      <th>Hashtags</th>\n",
       "      <th>Retweets</th>\n",
       "      <th>Likes</th>\n",
       "      <th>Country</th>\n",
       "      <th>Year</th>\n",
       "      <th>Month</th>\n",
       "      <th>Day</th>\n",
       "      <th>Hour</th>\n",
       "    </tr>\n",
       "  </thead>\n",
       "  <tbody>\n",
       "    <tr>\n",
       "      <th>6</th>\n",
       "      <td>Rainy days call for cozy blankets and hot cocoa.</td>\n",
       "      <td>Positive</td>\n",
       "      <td>2023-01-16 14:45:00</td>\n",
       "      <td>RainyDays</td>\n",
       "      <td>Facebook</td>\n",
       "      <td>#RainyDays #Cozy</td>\n",
       "      <td>10.0</td>\n",
       "      <td>20.0</td>\n",
       "      <td>Canada</td>\n",
       "      <td>2023</td>\n",
       "      <td>1</td>\n",
       "      <td>16</td>\n",
       "      <td>14</td>\n",
       "    </tr>\n",
       "    <tr>\n",
       "      <th>139</th>\n",
       "      <td>Serenity found in the melody of a peaceful piano.</td>\n",
       "      <td>Serenity</td>\n",
       "      <td>2016-07-30 18:10:00</td>\n",
       "      <td>MusicLover4</td>\n",
       "      <td>Twitter</td>\n",
       "      <td>#Serenity #PeacefulMelody</td>\n",
       "      <td>18.0</td>\n",
       "      <td>35.0</td>\n",
       "      <td>Canada</td>\n",
       "      <td>2016</td>\n",
       "      <td>7</td>\n",
       "      <td>30</td>\n",
       "      <td>18</td>\n",
       "    </tr>\n",
       "    <tr>\n",
       "      <th>545</th>\n",
       "      <td>Cheering for the underdog in the basketball fi...</td>\n",
       "      <td>Triumph</td>\n",
       "      <td>2022-06-20 21:00:00</td>\n",
       "      <td>BasketballFanUnderdogTriumph</td>\n",
       "      <td>Facebook</td>\n",
       "      <td>#Triumph #BasketballFinals</td>\n",
       "      <td>18.0</td>\n",
       "      <td>35.0</td>\n",
       "      <td>USA</td>\n",
       "      <td>2022</td>\n",
       "      <td>6</td>\n",
       "      <td>20</td>\n",
       "      <td>21</td>\n",
       "    </tr>\n",
       "  </tbody>\n",
       "</table>\n",
       "</div>"
      ],
      "text/plain": [
       "                                                  Text Sentiment  \\\n",
       "6     Rainy days call for cozy blankets and hot cocoa.  Positive   \n",
       "139  Serenity found in the melody of a peaceful piano.  Serenity   \n",
       "545  Cheering for the underdog in the basketball fi...   Triumph   \n",
       "\n",
       "               Timestamp                          User  Platform  \\\n",
       "6    2023-01-16 14:45:00                     RainyDays  Facebook   \n",
       "139  2016-07-30 18:10:00                   MusicLover4   Twitter   \n",
       "545  2022-06-20 21:00:00  BasketballFanUnderdogTriumph  Facebook   \n",
       "\n",
       "                       Hashtags  Retweets  Likes Country  Year  Month  Day  \\\n",
       "6              #RainyDays #Cozy      10.0   20.0  Canada  2023      1   16   \n",
       "139   #Serenity #PeacefulMelody      18.0   35.0  Canada  2016      7   30   \n",
       "545  #Triumph #BasketballFinals      18.0   35.0     USA  2022      6   20   \n",
       "\n",
       "     Hour  \n",
       "6      14  \n",
       "139    18  \n",
       "545    21  "
      ]
     },
     "execution_count": 11,
     "metadata": {},
     "output_type": "execute_result"
    }
   ],
   "source": [
    "df1.sample(3)"
   ]
  },
  {
   "cell_type": "code",
   "execution_count": 12,
   "id": "d6637db7",
   "metadata": {
    "execution": {
     "iopub.execute_input": "2024-08-05T02:29:39.440604Z",
     "iopub.status.busy": "2024-08-05T02:29:39.439644Z",
     "iopub.status.idle": "2024-08-05T02:29:39.467134Z",
     "shell.execute_reply": "2024-08-05T02:29:39.466068Z"
    },
    "papermill": {
     "duration": 0.039083,
     "end_time": "2024-08-05T02:29:39.469356",
     "exception": false,
     "start_time": "2024-08-05T02:29:39.430273",
     "status": "completed"
    },
    "tags": []
   },
   "outputs": [
    {
     "data": {
      "text/html": [
       "<div>\n",
       "<style scoped>\n",
       "    .dataframe tbody tr th:only-of-type {\n",
       "        vertical-align: middle;\n",
       "    }\n",
       "\n",
       "    .dataframe tbody tr th {\n",
       "        vertical-align: top;\n",
       "    }\n",
       "\n",
       "    .dataframe thead th {\n",
       "        text-align: right;\n",
       "    }\n",
       "</style>\n",
       "<table border=\"1\" class=\"dataframe\">\n",
       "  <thead>\n",
       "    <tr style=\"text-align: right;\">\n",
       "      <th></th>\n",
       "      <th>Text</th>\n",
       "      <th>Sentiment</th>\n",
       "      <th>Timestamp</th>\n",
       "      <th>User</th>\n",
       "      <th>Platform</th>\n",
       "      <th>Hashtags</th>\n",
       "      <th>Retweets</th>\n",
       "      <th>Likes</th>\n",
       "      <th>Country</th>\n",
       "      <th>Year</th>\n",
       "      <th>Month</th>\n",
       "      <th>Day</th>\n",
       "      <th>Hour</th>\n",
       "      <th>time</th>\n",
       "      <th>Date</th>\n",
       "      <th>Time</th>\n",
       "      <th>Weekday</th>\n",
       "    </tr>\n",
       "  </thead>\n",
       "  <tbody>\n",
       "    <tr>\n",
       "      <th>0</th>\n",
       "      <td>Enjoying a beautiful day at the park!</td>\n",
       "      <td>Positive</td>\n",
       "      <td>2023-01-15 12:30:00</td>\n",
       "      <td>User123</td>\n",
       "      <td>Twitter</td>\n",
       "      <td>#Nature #Park</td>\n",
       "      <td>15.0</td>\n",
       "      <td>30.0</td>\n",
       "      <td>USA</td>\n",
       "      <td>2023</td>\n",
       "      <td>1</td>\n",
       "      <td>15</td>\n",
       "      <td>12</td>\n",
       "      <td>2023-01-15 12:30:00</td>\n",
       "      <td>2023-01-15</td>\n",
       "      <td>12:30:00</td>\n",
       "      <td>6</td>\n",
       "    </tr>\n",
       "    <tr>\n",
       "      <th>1</th>\n",
       "      <td>Traffic was terrible this morning.</td>\n",
       "      <td>Negative</td>\n",
       "      <td>2023-01-15 08:45:00</td>\n",
       "      <td>CommuterX</td>\n",
       "      <td>Twitter</td>\n",
       "      <td>#Traffic #Morning</td>\n",
       "      <td>5.0</td>\n",
       "      <td>10.0</td>\n",
       "      <td>Canada</td>\n",
       "      <td>2023</td>\n",
       "      <td>1</td>\n",
       "      <td>15</td>\n",
       "      <td>8</td>\n",
       "      <td>2023-01-15 08:45:00</td>\n",
       "      <td>2023-01-15</td>\n",
       "      <td>08:45:00</td>\n",
       "      <td>6</td>\n",
       "    </tr>\n",
       "  </tbody>\n",
       "</table>\n",
       "</div>"
      ],
      "text/plain": [
       "                                    Text Sentiment            Timestamp  \\\n",
       "0  Enjoying a beautiful day at the park!  Positive  2023-01-15 12:30:00   \n",
       "1     Traffic was terrible this morning.  Negative  2023-01-15 08:45:00   \n",
       "\n",
       "        User Platform           Hashtags  Retweets  Likes Country  Year  \\\n",
       "0    User123  Twitter      #Nature #Park      15.0   30.0     USA  2023   \n",
       "1  CommuterX  Twitter  #Traffic #Morning       5.0   10.0  Canada  2023   \n",
       "\n",
       "   Month  Day  Hour                time        Date      Time  Weekday  \n",
       "0      1   15    12 2023-01-15 12:30:00  2023-01-15  12:30:00        6  \n",
       "1      1   15     8 2023-01-15 08:45:00  2023-01-15  08:45:00        6  "
      ]
     },
     "execution_count": 12,
     "metadata": {},
     "output_type": "execute_result"
    }
   ],
   "source": [
    "# Transform the 'Timestamp' column to two columns, 'Date', 'Time'\n",
    "import datetime as dt\n",
    "df1['time'] = pd.to_datetime(df1.Timestamp)\n",
    "df1['Date'] = df1['time'].dt.date\n",
    "df1['Time'] = df1['time'].dt.time\n",
    "#df1['new_Day']=df1['time'].dt.day\n",
    "df1['Weekday']=df1['time'].dt.weekday  #<--- weekday value: 0 ~ 6\n",
    "#df1.drop(['Timestamp', 'time'], axis=1) #<--- not working in here\n",
    "df1.head(2)"
   ]
  },
  {
   "cell_type": "code",
   "execution_count": 13,
   "id": "d4b1217c",
   "metadata": {
    "execution": {
     "iopub.execute_input": "2024-08-05T02:29:39.488483Z",
     "iopub.status.busy": "2024-08-05T02:29:39.487441Z",
     "iopub.status.idle": "2024-08-05T02:29:39.506181Z",
     "shell.execute_reply": "2024-08-05T02:29:39.505077Z"
    },
    "papermill": {
     "duration": 0.030701,
     "end_time": "2024-08-05T02:29:39.508401",
     "exception": false,
     "start_time": "2024-08-05T02:29:39.477700",
     "status": "completed"
    },
    "tags": []
   },
   "outputs": [
    {
     "data": {
      "text/html": [
       "<div>\n",
       "<style scoped>\n",
       "    .dataframe tbody tr th:only-of-type {\n",
       "        vertical-align: middle;\n",
       "    }\n",
       "\n",
       "    .dataframe tbody tr th {\n",
       "        vertical-align: top;\n",
       "    }\n",
       "\n",
       "    .dataframe thead th {\n",
       "        text-align: right;\n",
       "    }\n",
       "</style>\n",
       "<table border=\"1\" class=\"dataframe\">\n",
       "  <thead>\n",
       "    <tr style=\"text-align: right;\">\n",
       "      <th></th>\n",
       "      <th>Text</th>\n",
       "      <th>Sentiment</th>\n",
       "      <th>User</th>\n",
       "      <th>Platform</th>\n",
       "      <th>Hashtags</th>\n",
       "      <th>Retweets</th>\n",
       "      <th>Likes</th>\n",
       "      <th>Country</th>\n",
       "      <th>Year</th>\n",
       "      <th>Month</th>\n",
       "      <th>Day</th>\n",
       "      <th>Hour</th>\n",
       "      <th>Date</th>\n",
       "      <th>Time</th>\n",
       "      <th>Weekday</th>\n",
       "    </tr>\n",
       "  </thead>\n",
       "  <tbody>\n",
       "    <tr>\n",
       "      <th>0</th>\n",
       "      <td>Enjoying a beautiful day at the park!</td>\n",
       "      <td>Positive</td>\n",
       "      <td>User123</td>\n",
       "      <td>Twitter</td>\n",
       "      <td>#Nature #Park</td>\n",
       "      <td>15.0</td>\n",
       "      <td>30.0</td>\n",
       "      <td>USA</td>\n",
       "      <td>2023</td>\n",
       "      <td>1</td>\n",
       "      <td>15</td>\n",
       "      <td>12</td>\n",
       "      <td>2023-01-15</td>\n",
       "      <td>12:30:00</td>\n",
       "      <td>6</td>\n",
       "    </tr>\n",
       "    <tr>\n",
       "      <th>1</th>\n",
       "      <td>Traffic was terrible this morning.</td>\n",
       "      <td>Negative</td>\n",
       "      <td>CommuterX</td>\n",
       "      <td>Twitter</td>\n",
       "      <td>#Traffic #Morning</td>\n",
       "      <td>5.0</td>\n",
       "      <td>10.0</td>\n",
       "      <td>Canada</td>\n",
       "      <td>2023</td>\n",
       "      <td>1</td>\n",
       "      <td>15</td>\n",
       "      <td>8</td>\n",
       "      <td>2023-01-15</td>\n",
       "      <td>08:45:00</td>\n",
       "      <td>6</td>\n",
       "    </tr>\n",
       "  </tbody>\n",
       "</table>\n",
       "</div>"
      ],
      "text/plain": [
       "                                    Text Sentiment       User Platform  \\\n",
       "0  Enjoying a beautiful day at the park!  Positive    User123  Twitter   \n",
       "1     Traffic was terrible this morning.  Negative  CommuterX  Twitter   \n",
       "\n",
       "            Hashtags  Retweets  Likes Country  Year  Month  Day  Hour  \\\n",
       "0      #Nature #Park      15.0   30.0     USA  2023      1   15    12   \n",
       "1  #Traffic #Morning       5.0   10.0  Canada  2023      1   15     8   \n",
       "\n",
       "         Date      Time  Weekday  \n",
       "0  2023-01-15  12:30:00        6  \n",
       "1  2023-01-15  08:45:00        6  "
      ]
     },
     "execution_count": 13,
     "metadata": {},
     "output_type": "execute_result"
    }
   ],
   "source": [
    "# drop two columns: 'timestamp', 'time'\n",
    "df2=df1.drop(['Timestamp', 'time'], axis=1)\n",
    "df2.head(2)"
   ]
  },
  {
   "cell_type": "code",
   "execution_count": 14,
   "id": "4e463bb1",
   "metadata": {
    "execution": {
     "iopub.execute_input": "2024-08-05T02:29:39.527391Z",
     "iopub.status.busy": "2024-08-05T02:29:39.527037Z",
     "iopub.status.idle": "2024-08-05T02:29:39.551620Z",
     "shell.execute_reply": "2024-08-05T02:29:39.550488Z"
    },
    "papermill": {
     "duration": 0.03692,
     "end_time": "2024-08-05T02:29:39.554024",
     "exception": false,
     "start_time": "2024-08-05T02:29:39.517104",
     "status": "completed"
    },
    "tags": []
   },
   "outputs": [
    {
     "data": {
      "text/html": [
       "<div>\n",
       "<style scoped>\n",
       "    .dataframe tbody tr th:only-of-type {\n",
       "        vertical-align: middle;\n",
       "    }\n",
       "\n",
       "    .dataframe tbody tr th {\n",
       "        vertical-align: top;\n",
       "    }\n",
       "\n",
       "    .dataframe thead th {\n",
       "        text-align: right;\n",
       "    }\n",
       "</style>\n",
       "<table border=\"1\" class=\"dataframe\">\n",
       "  <thead>\n",
       "    <tr style=\"text-align: right;\">\n",
       "      <th></th>\n",
       "      <th>Text</th>\n",
       "      <th>Sentiment</th>\n",
       "      <th>User</th>\n",
       "      <th>Platform</th>\n",
       "      <th>Hashtags</th>\n",
       "      <th>Retweets</th>\n",
       "      <th>Likes</th>\n",
       "      <th>Country</th>\n",
       "      <th>Year</th>\n",
       "      <th>Month</th>\n",
       "      <th>Day</th>\n",
       "      <th>Hour</th>\n",
       "      <th>Date</th>\n",
       "      <th>Time</th>\n",
       "      <th>Weekday</th>\n",
       "      <th>Monthname</th>\n",
       "      <th>Weekdayname</th>\n",
       "    </tr>\n",
       "  </thead>\n",
       "  <tbody>\n",
       "    <tr>\n",
       "      <th>0</th>\n",
       "      <td>Enjoying a beautiful day at the park!</td>\n",
       "      <td>Positive</td>\n",
       "      <td>User123</td>\n",
       "      <td>Twitter</td>\n",
       "      <td>#Nature #Park</td>\n",
       "      <td>15.0</td>\n",
       "      <td>30.0</td>\n",
       "      <td>USA</td>\n",
       "      <td>2023</td>\n",
       "      <td>1</td>\n",
       "      <td>15</td>\n",
       "      <td>12</td>\n",
       "      <td>2023-01-15</td>\n",
       "      <td>12:30:00</td>\n",
       "      <td>6</td>\n",
       "      <td>Jan</td>\n",
       "      <td>Sun</td>\n",
       "    </tr>\n",
       "    <tr>\n",
       "      <th>1</th>\n",
       "      <td>Traffic was terrible this morning.</td>\n",
       "      <td>Negative</td>\n",
       "      <td>CommuterX</td>\n",
       "      <td>Twitter</td>\n",
       "      <td>#Traffic #Morning</td>\n",
       "      <td>5.0</td>\n",
       "      <td>10.0</td>\n",
       "      <td>Canada</td>\n",
       "      <td>2023</td>\n",
       "      <td>1</td>\n",
       "      <td>15</td>\n",
       "      <td>8</td>\n",
       "      <td>2023-01-15</td>\n",
       "      <td>08:45:00</td>\n",
       "      <td>6</td>\n",
       "      <td>Jan</td>\n",
       "      <td>Sun</td>\n",
       "    </tr>\n",
       "  </tbody>\n",
       "</table>\n",
       "</div>"
      ],
      "text/plain": [
       "                                    Text Sentiment       User Platform  \\\n",
       "0  Enjoying a beautiful day at the park!  Positive    User123  Twitter   \n",
       "1     Traffic was terrible this morning.  Negative  CommuterX  Twitter   \n",
       "\n",
       "            Hashtags  Retweets  Likes Country  Year  Month  Day  Hour  \\\n",
       "0      #Nature #Park      15.0   30.0     USA  2023      1   15    12   \n",
       "1  #Traffic #Morning       5.0   10.0  Canada  2023      1   15     8   \n",
       "\n",
       "         Date      Time  Weekday Monthname Weekdayname  \n",
       "0  2023-01-15  12:30:00        6       Jan         Sun  \n",
       "1  2023-01-15  08:45:00        6       Jan         Sun  "
      ]
     },
     "execution_count": 14,
     "metadata": {},
     "output_type": "execute_result"
    }
   ],
   "source": [
    "# Transform name of the column and create new column 'Month_name' using replace() function\n",
    "df2['Monthname']=df2['Month'].replace([1,2,3,4,5,6,7,8,9,10,11,12], ['Jan','Feb','Mar','Apr','May','Jun','Jul','Aug','Sep','Oct','Nov','Dec'])\n",
    "df2['Weekdayname']=df2['Weekday'].replace([0,1,2,3,4,5,6], ['Mon','Tue','Wed','Thur','Fri','Sat','Sun'])\n",
    "df2.head(2)"
   ]
  },
  {
   "cell_type": "code",
   "execution_count": 15,
   "id": "b70f5f73",
   "metadata": {
    "execution": {
     "iopub.execute_input": "2024-08-05T02:29:39.574046Z",
     "iopub.status.busy": "2024-08-05T02:29:39.573670Z",
     "iopub.status.idle": "2024-08-05T02:29:39.593123Z",
     "shell.execute_reply": "2024-08-05T02:29:39.592079Z"
    },
    "papermill": {
     "duration": 0.032029,
     "end_time": "2024-08-05T02:29:39.595204",
     "exception": false,
     "start_time": "2024-08-05T02:29:39.563175",
     "status": "completed"
    },
    "tags": []
   },
   "outputs": [
    {
     "data": {
      "text/html": [
       "<div>\n",
       "<style scoped>\n",
       "    .dataframe tbody tr th:only-of-type {\n",
       "        vertical-align: middle;\n",
       "    }\n",
       "\n",
       "    .dataframe tbody tr th {\n",
       "        vertical-align: top;\n",
       "    }\n",
       "\n",
       "    .dataframe thead th {\n",
       "        text-align: right;\n",
       "    }\n",
       "</style>\n",
       "<table border=\"1\" class=\"dataframe\">\n",
       "  <thead>\n",
       "    <tr style=\"text-align: right;\">\n",
       "      <th></th>\n",
       "      <th>Text</th>\n",
       "      <th>Sentiment</th>\n",
       "      <th>User</th>\n",
       "      <th>Platform</th>\n",
       "      <th>Hashtags</th>\n",
       "      <th>Retweets</th>\n",
       "      <th>Likes</th>\n",
       "      <th>Country</th>\n",
       "      <th>Year</th>\n",
       "      <th>Month</th>\n",
       "      <th>Day</th>\n",
       "      <th>Hour</th>\n",
       "      <th>Date</th>\n",
       "      <th>Time</th>\n",
       "      <th>Monthname</th>\n",
       "      <th>Weekdayname</th>\n",
       "    </tr>\n",
       "  </thead>\n",
       "  <tbody>\n",
       "    <tr>\n",
       "      <th>31</th>\n",
       "      <td>Enjoying a cup of tea and watching the sunset.</td>\n",
       "      <td>Positive</td>\n",
       "      <td>SunsetWatcher</td>\n",
       "      <td>Twitter</td>\n",
       "      <td>#TeaTime #Sunset</td>\n",
       "      <td>15.0</td>\n",
       "      <td>30.0</td>\n",
       "      <td>India</td>\n",
       "      <td>2023</td>\n",
       "      <td>1</td>\n",
       "      <td>25</td>\n",
       "      <td>18</td>\n",
       "      <td>2023-01-25</td>\n",
       "      <td>18:00:00</td>\n",
       "      <td>Jan</td>\n",
       "      <td>Wed</td>\n",
       "    </tr>\n",
       "    <tr>\n",
       "      <th>210</th>\n",
       "      <td>Melancholy whispers in the breeze, a silent co...</td>\n",
       "      <td>Melancholy</td>\n",
       "      <td>DreamerInSilence</td>\n",
       "      <td>Facebook</td>\n",
       "      <td>#Melancholy #WhispersInTheBreeze</td>\n",
       "      <td>12.0</td>\n",
       "      <td>25.0</td>\n",
       "      <td>India</td>\n",
       "      <td>2020</td>\n",
       "      <td>3</td>\n",
       "      <td>1</td>\n",
       "      <td>19</td>\n",
       "      <td>2020-03-01</td>\n",
       "      <td>19:00:00</td>\n",
       "      <td>Mar</td>\n",
       "      <td>Sun</td>\n",
       "    </tr>\n",
       "  </tbody>\n",
       "</table>\n",
       "</div>"
      ],
      "text/plain": [
       "                                                  Text   Sentiment  \\\n",
       "31      Enjoying a cup of tea and watching the sunset.    Positive   \n",
       "210  Melancholy whispers in the breeze, a silent co...  Melancholy   \n",
       "\n",
       "                 User  Platform                          Hashtags  Retweets  \\\n",
       "31      SunsetWatcher   Twitter                  #TeaTime #Sunset      15.0   \n",
       "210  DreamerInSilence  Facebook  #Melancholy #WhispersInTheBreeze      12.0   \n",
       "\n",
       "     Likes Country  Year  Month  Day  Hour        Date      Time Monthname  \\\n",
       "31    30.0   India  2023      1   25    18  2023-01-25  18:00:00       Jan   \n",
       "210   25.0   India  2020      3    1    19  2020-03-01  19:00:00       Mar   \n",
       "\n",
       "    Weekdayname  \n",
       "31          Wed  \n",
       "210         Sun  "
      ]
     },
     "execution_count": 15,
     "metadata": {},
     "output_type": "execute_result"
    }
   ],
   "source": [
    "df2.drop('Weekday', axis=1).sample(2)"
   ]
  },
  {
   "cell_type": "code",
   "execution_count": 16,
   "id": "b65351fb",
   "metadata": {
    "execution": {
     "iopub.execute_input": "2024-08-05T02:29:39.615573Z",
     "iopub.status.busy": "2024-08-05T02:29:39.615219Z",
     "iopub.status.idle": "2024-08-05T02:29:39.622756Z",
     "shell.execute_reply": "2024-08-05T02:29:39.621622Z"
    },
    "papermill": {
     "duration": 0.02076,
     "end_time": "2024-08-05T02:29:39.625153",
     "exception": false,
     "start_time": "2024-08-05T02:29:39.604393",
     "status": "completed"
    },
    "tags": []
   },
   "outputs": [
    {
     "name": "stdout",
     "output_type": "stream",
     "text": [
      "Name of value in the Monthname column: ['Jan' 'Feb' 'Mar' 'May' 'Aug' 'Jun' 'Nov' 'Apr' 'Sep' 'Jul' 'Oct' 'Dec']\n",
      "Name of value in the Weekdayname column:  ['Sun' 'Mon' 'Tue' 'Wed' 'Thur' 'Fri' 'Sat']\n"
     ]
    }
   ],
   "source": [
    "# Check the value of columns: 'Monthname', 'Weekdayname'using np.unique()\n",
    "print('Name of value in the Monthname column:', df2.Monthname.unique())\n",
    "print('Name of value in the Weekdayname column: ', df2.Weekdayname.unique())"
   ]
  },
  {
   "cell_type": "markdown",
   "id": "fca20940",
   "metadata": {
    "papermill": {
     "duration": 0.00914,
     "end_time": "2024-08-05T02:29:39.643734",
     "exception": false,
     "start_time": "2024-08-05T02:29:39.634594",
     "status": "completed"
    },
    "tags": []
   },
   "source": [
    "# 4. Analyze and visualize data"
   ]
  },
  {
   "cell_type": "code",
   "execution_count": 17,
   "id": "6e130006",
   "metadata": {
    "execution": {
     "iopub.execute_input": "2024-08-05T02:29:39.664644Z",
     "iopub.status.busy": "2024-08-05T02:29:39.663854Z",
     "iopub.status.idle": "2024-08-05T02:29:41.410035Z",
     "shell.execute_reply": "2024-08-05T02:29:41.408884Z"
    },
    "papermill": {
     "duration": 1.75931,
     "end_time": "2024-08-05T02:29:41.412496",
     "exception": false,
     "start_time": "2024-08-05T02:29:39.653186",
     "status": "completed"
    },
    "tags": []
   },
   "outputs": [
    {
     "data": {
      "text/plain": [
       "Text(0.5, 1.0, 'Kinds of Sentiment in descending order')"
      ]
     },
     "execution_count": 17,
     "metadata": {},
     "output_type": "execute_result"
    },
    {
     "data": {
      "image/png": "[encoded data removed]",
      "text/plain": [
       "<Figure size 1000x500 with 1 Axes>"
      ]
     },
     "metadata": {},
     "output_type": "display_data"
    }
   ],
   "source": [
    "import matplotlib.pyplot as plt\n",
    "import seaborn as sns\n",
    "\n",
    "plt.figure(figsize=(10, 5))\n",
    "df2['Sentiment'].value_counts().nlargest(20).plot(kind='bar')\n",
    "plt.title(\"Kinds of Sentiment in descending order\")"
   ]
  },
  {
   "cell_type": "code",
   "execution_count": 18,
   "id": "cbb47763",
   "metadata": {
    "execution": {
     "iopub.execute_input": "2024-08-05T02:29:41.435759Z",
     "iopub.status.busy": "2024-08-05T02:29:41.435339Z",
     "iopub.status.idle": "2024-08-05T02:29:41.578136Z",
     "shell.execute_reply": "2024-08-05T02:29:41.576990Z"
    },
    "papermill": {
     "duration": 0.15791,
     "end_time": "2024-08-05T02:29:41.581326",
     "exception": false,
     "start_time": "2024-08-05T02:29:41.423416",
     "status": "completed"
    },
    "tags": []
   },
   "outputs": [
    {
     "data": {
      "text/plain": [
       "Text(0.5, 1.0, 'Proportion of Platform')"
      ]
     },
     "execution_count": 18,
     "metadata": {},
     "output_type": "execute_result"
    },
    {
     "data": {
      "image/png": "[encoded data removed]",
      "text/plain": [
       "<Figure size 1000x500 with 1 Axes>"
      ]
     },
     "metadata": {},
     "output_type": "display_data"
    }
   ],
   "source": [
    "#\n",
    "plt.figure(figsize=(10, 5))\n",
    "df2['Platform'].value_counts().plot(kind='pie', autopct='%1.1f%%')\n",
    "plt.title(\"Proportion of Platform\")\n",
    "#plt.legend()"
   ]
  },
  {
   "cell_type": "code",
   "execution_count": 19,
   "id": "e5cec963",
   "metadata": {
    "execution": {
     "iopub.execute_input": "2024-08-05T02:29:41.619995Z",
     "iopub.status.busy": "2024-08-05T02:29:41.619145Z",
     "iopub.status.idle": "2024-08-05T02:29:41.960831Z",
     "shell.execute_reply": "2024-08-05T02:29:41.959628Z"
    },
    "papermill": {
     "duration": 0.363768,
     "end_time": "2024-08-05T02:29:41.963318",
     "exception": false,
     "start_time": "2024-08-05T02:29:41.599550",
     "status": "completed"
    },
    "tags": []
   },
   "outputs": [
    {
     "data": {
      "text/plain": [
       "<Axes: xlabel='Country'>"
      ]
     },
     "execution_count": 19,
     "metadata": {},
     "output_type": "execute_result"
    },
    {
     "data": {
      "image/png": "[encoded data removed]",
      "text/plain": [
       "<Figure size 1000x500 with 1 Axes>"
      ]
     },
     "metadata": {},
     "output_type": "display_data"
    }
   ],
   "source": [
    "#\n",
    "plt.figure(figsize=(10, 5))\n",
    "df2['Country'].value_counts().nlargest(15).plot(kind='bar')"
   ]
  },
  {
   "cell_type": "code",
   "execution_count": 20,
   "id": "d4153e89",
   "metadata": {
    "execution": {
     "iopub.execute_input": "2024-08-05T02:29:41.988421Z",
     "iopub.status.busy": "2024-08-05T02:29:41.988029Z",
     "iopub.status.idle": "2024-08-05T02:29:41.996165Z",
     "shell.execute_reply": "2024-08-05T02:29:41.995139Z"
    },
    "papermill": {
     "duration": 0.023373,
     "end_time": "2024-08-05T02:29:41.998449",
     "exception": false,
     "start_time": "2024-08-05T02:29:41.975076",
     "status": "completed"
    },
    "tags": []
   },
   "outputs": [
    {
     "name": "stdout",
     "output_type": "stream",
     "text": [
      "Maxiumn value: Year:2023 | Minimum value: Year:2010\n",
      "Maxiumn value: Likes:80.0 | Minimum value: Likes:10.0\n",
      "Maxiumn value: Retweets:40.0 | Minimum value: Retweets:5.0\n"
     ]
    }
   ],
   "source": [
    "for column in df2[['Year', 'Likes', 'Retweets']]:\n",
    "    print(f\"Maxiumn value: {column}:{df2[column].max()} | Minimum value: {column}:{df2[column].min()}\")"
   ]
  },
  {
   "cell_type": "code",
   "execution_count": 21,
   "id": "cde87a8e",
   "metadata": {
    "execution": {
     "iopub.execute_input": "2024-08-05T02:29:42.023971Z",
     "iopub.status.busy": "2024-08-05T02:29:42.023565Z",
     "iopub.status.idle": "2024-08-05T02:29:42.370170Z",
     "shell.execute_reply": "2024-08-05T02:29:42.369024Z"
    },
    "papermill": {
     "duration": 0.362283,
     "end_time": "2024-08-05T02:29:42.372737",
     "exception": false,
     "start_time": "2024-08-05T02:29:42.010454",
     "status": "completed"
    },
    "tags": []
   },
   "outputs": [
    {
     "data": {
      "text/plain": [
       "<Axes: xlabel='Country'>"
      ]
     },
     "execution_count": 21,
     "metadata": {},
     "output_type": "execute_result"
    },
    {
     "data": {
      "image/png": "[encoded data removed]",
      "text/plain": [
       "<Figure size 1000x500 with 1 Axes>"
      ]
     },
     "metadata": {},
     "output_type": "display_data"
    }
   ],
   "source": [
    "#\n",
    "plt.figure(figsize=(10, 5))\n",
    "df2.groupby('Country')['Likes'].sum().nlargest(15).plot(kind='bar')"
   ]
  },
  {
   "cell_type": "code",
   "execution_count": 22,
   "id": "12169b73",
   "metadata": {
    "execution": {
     "iopub.execute_input": "2024-08-05T02:29:42.400394Z",
     "iopub.status.busy": "2024-08-05T02:29:42.399487Z",
     "iopub.status.idle": "2024-08-05T02:29:42.714613Z",
     "shell.execute_reply": "2024-08-05T02:29:42.713484Z"
    },
    "papermill": {
     "duration": 0.331745,
     "end_time": "2024-08-05T02:29:42.717231",
     "exception": false,
     "start_time": "2024-08-05T02:29:42.385486",
     "status": "completed"
    },
    "tags": []
   },
   "outputs": [
    {
     "data": {
      "text/plain": [
       "(array([0, 1, 2, 3, 4, 5, 6, 7, 8, 9]),\n",
       " [Text(0, 0, '#Wonder #StargazingAdventure'),\n",
       "  Text(1, 0, '#Playful #CarnivalEscapade'),\n",
       "  Text(2, 0, '#Harmony #MusicalUnity'),\n",
       "  Text(3, 0, '#Proud #ScalingPeaks'),\n",
       "  Text(4, 0, '#Compassionate #TearsOfEmpathy'),\n",
       "  Text(5, 0, '#Coziness #WarmWinterEvening'),\n",
       "  Text(6, 0, '#Inspiration #ForestWhispers'),\n",
       "  Text(7, 0, '#Playful #JugglingResponsibilities'),\n",
       "  Text(8, 0, '#Radiance #SpringBlooms'),\n",
       "  Text(9, 0, '#TimelessTunes #SeniorJazz')])"
      ]
     },
     "execution_count": 22,
     "metadata": {},
     "output_type": "execute_result"
    },
    {
     "data": {
      "image/png": "[encoded data removed]",
      "text/plain": [
       "<Figure size 1000x500 with 1 Axes>"
      ]
     },
     "metadata": {},
     "output_type": "display_data"
    }
   ],
   "source": [
    "#\n",
    "plt.figure(figsize=(10, 5))\n",
    "df3=df2.groupby('Hashtags')['Retweets'].sum().nlargest(10).sort_values(ascending=False)\n",
    "df3.plot(kind='bar')\n",
    "plt.xticks(rotation=80)\n",
    "#control test angle"
   ]
  },
  {
   "cell_type": "code",
   "execution_count": 23,
   "id": "52616494",
   "metadata": {
    "execution": {
     "iopub.execute_input": "2024-08-05T02:29:42.748448Z",
     "iopub.status.busy": "2024-08-05T02:29:42.747514Z",
     "iopub.status.idle": "2024-08-05T02:29:43.022070Z",
     "shell.execute_reply": "2024-08-05T02:29:43.020798Z"
    },
    "papermill": {
     "duration": 0.2927,
     "end_time": "2024-08-05T02:29:43.024509",
     "exception": false,
     "start_time": "2024-08-05T02:29:42.731809",
     "status": "completed"
    },
    "tags": []
   },
   "outputs": [
    {
     "name": "stderr",
     "output_type": "stream",
     "text": [
      "/opt/conda/lib/python3.10/site-packages/seaborn/_oldcore.py:1119: FutureWarning: use_inf_as_na option is deprecated and will be removed in a future version. Convert inf values to NaN before operating instead.\n",
      "  with pd.option_context('mode.use_inf_as_na', True):\n",
      "/opt/conda/lib/python3.10/site-packages/seaborn/_oldcore.py:1119: FutureWarning: use_inf_as_na option is deprecated and will be removed in a future version. Convert inf values to NaN before operating instead.\n",
      "  with pd.option_context('mode.use_inf_as_na', True):\n"
     ]
    },
    {
     "data": {
      "text/plain": [
       "Text(0.5, 1.0, \"Accumulative 'Likes' over years on Twitter\")"
      ]
     },
     "execution_count": 23,
     "metadata": {},
     "output_type": "execute_result"
    },
    {
     "data": {
      "image/png": "[encoded data removed]",
      "text/plain": [
       "<Figure size 1000x500 with 1 Axes>"
      ]
     },
     "metadata": {},
     "output_type": "display_data"
    }
   ],
   "source": [
    "# Create variable 'Twitter' \n",
    "Twitter=df2[df2['Platform']=='Twitter']\n",
    "df5=Twitter.groupby('Year')['Likes'].sum().reset_index()\n",
    "plt.figure(figsize=(10, 5))\n",
    "sns.lineplot(data=df5, x='Year', y='Likes', marker='o')\n",
    "plt.title(\"Accumulative 'Likes' over years on Twitter\")"
   ]
  },
  {
   "cell_type": "code",
   "execution_count": 24,
   "id": "dd5ca6f7",
   "metadata": {
    "execution": {
     "iopub.execute_input": "2024-08-05T02:29:43.056595Z",
     "iopub.status.busy": "2024-08-05T02:29:43.056204Z",
     "iopub.status.idle": "2024-08-05T02:29:43.412279Z",
     "shell.execute_reply": "2024-08-05T02:29:43.410976Z"
    },
    "papermill": {
     "duration": 0.37515,
     "end_time": "2024-08-05T02:29:43.414915",
     "exception": false,
     "start_time": "2024-08-05T02:29:43.039765",
     "status": "completed"
    },
    "tags": []
   },
   "outputs": [
    {
     "name": "stderr",
     "output_type": "stream",
     "text": [
      "/opt/conda/lib/python3.10/site-packages/seaborn/_oldcore.py:1119: FutureWarning: use_inf_as_na option is deprecated and will be removed in a future version. Convert inf values to NaN before operating instead.\n",
      "  with pd.option_context('mode.use_inf_as_na', True):\n",
      "/opt/conda/lib/python3.10/site-packages/seaborn/_oldcore.py:1119: FutureWarning: use_inf_as_na option is deprecated and will be removed in a future version. Convert inf values to NaN before operating instead.\n",
      "  with pd.option_context('mode.use_inf_as_na', True):\n"
     ]
    },
    {
     "data": {
      "text/plain": [
       "Text(0.5, 1.0, \"Accumulative 'Retweets' over time on Instagram\")"
      ]
     },
     "execution_count": 24,
     "metadata": {},
     "output_type": "execute_result"
    },
    {
     "data": {
      "image/png": "[encoded data removed]",
      "text/plain": [
       "<Figure size 1200x500 with 1 Axes>"
      ]
     },
     "metadata": {},
     "output_type": "display_data"
    }
   ],
   "source": [
    "# iterrows(): iterate over DataFrame rows as (index, Series) pairs.\n",
    "Instagram=df2[df2['Platform']=='Instagram']\n",
    "df_ins=Instagram.groupby('Year')['Retweets'].sum().reset_index()\n",
    "\n",
    "plt.figure(figsize=(12, 5))\n",
    "sns.lineplot(data=df_ins, x='Year', y='Retweets', marker='o')\n",
    "for index, value in df_ins.iterrows():\n",
    "    plt.text(value['Year'], value['Retweets'], str(value['Retweets']), ha='left', va='bottom')\n",
    "plt.title(\"Accumulative 'Retweets' over time on Instagram\")"
   ]
  },
  {
   "cell_type": "code",
   "execution_count": null,
   "id": "da45ff73",
   "metadata": {
    "papermill": {
     "duration": 0.01681,
     "end_time": "2024-08-05T02:29:43.448308",
     "exception": false,
     "start_time": "2024-08-05T02:29:43.431498",
     "status": "completed"
    },
    "tags": []
   },
   "outputs": [],
   "source": []
  }
 ],
 "metadata": {
  "kaggle": {
   "accelerator": "none",
   "dataSources": [
    {
     "datasetId": 4245661,
     "sourceId": 7316566,
     "sourceType": "datasetVersion"
    }
   ],
   "dockerImageVersionId": 30746,
   "isGpuEnabled": false,
   "isInternetEnabled": true,
   "language": "python",
   "sourceType": "notebook"
  },
  "kernelspec": {
   "display_name": "Python 3",
   "language": "python",
   "name": "python3"
  },
  "language_info": {
   "codemirror_mode": {
    "name": "ipython",
    "version": 3
   },
   "file_extension": ".py",
   "mimetype": "text/x-python",
   "name": "python",
   "nbconvert_exporter": "python",
   "pygments_lexer": "ipython3",
   "version": "3.10.13"
  },
  "papermill": {
   "default_parameters": {},
   "duration": 8.624242,
   "end_time": "2024-08-05T02:29:44.085913",
   "environment_variables": {},
   "exception": null,
   "input_path": "__notebook__.ipynb",
   "output_path": "__notebook__.ipynb",
   "parameters": {},
   "start_time": "2024-08-05T02:29:35.461671",
   "version": "2.5.0"
  }
 },
 "nbformat": 4,
 "nbformat_minor": 5
}
